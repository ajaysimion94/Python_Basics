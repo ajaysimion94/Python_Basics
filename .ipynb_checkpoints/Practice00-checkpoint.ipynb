{
 "cells": [
  {
   "cell_type": "code",
   "execution_count": 1,
   "id": "9cd10fa5",
   "metadata": {},
   "outputs": [
    {
     "name": "stdout",
     "output_type": "stream",
     "text": [
      "Hello World\n"
     ]
    }
   ],
   "source": [
    "print(\"Hello World\")"
   ]
  },
  {
   "cell_type": "markdown",
   "id": "1308a84d",
   "metadata": {},
   "source": [
    "# Demo - Operators"
   ]
  },
  {
   "cell_type": "code",
   "execution_count": 1,
   "id": "01d8c3d7",
   "metadata": {},
   "outputs": [
    {
     "name": "stdout",
     "output_type": "stream",
     "text": [
      "The Sum : 110\n",
      "The Difference : 90\n",
      "The Multiplication : 1000\n",
      "The Divison : 10.0\n",
      "The Modulus : 0\n",
      "The Exponent : 100000000000000000000\n",
      "The Floor Division 3\n"
     ]
    }
   ],
   "source": [
    "#for Arithmatic operators\n",
    "a=100\n",
    "b=10\n",
    "print(\"The Sum :\",a+b)\n",
    "print(\"The Difference :\",a-b)\n",
    "print(\"The Multiplication :\",a*b)\n",
    "print(\"The Divison :\",a/b)\n",
    "print(\"The Modulus :\",a%b)\n",
    "print(\"The Exponent :\",a**b)\n",
    "print(\"The Floor Division\",a//30)"
   ]
  },
  {
   "cell_type": "code",
   "execution_count": 2,
   "id": "d259f883",
   "metadata": {},
   "outputs": [
    {
     "name": "stdout",
     "output_type": "stream",
     "text": [
      "A: 10\n",
      "B: 20\n",
      "A>B : False\n",
      "A<B : True\n",
      "A=B : False\n",
      "A!=B : True\n",
      "A<=B : True\n",
      "A>=B : False\n"
     ]
    }
   ],
   "source": [
    "#for Relational operator\n",
    "a=10\n",
    "b=20\n",
    "print(\"A:\",a)\n",
    "print(\"B:\",b)\n",
    "print(\"A>B :\",a>b)\n",
    "print(\"A<B :\",a<b)\n",
    "print(\"A=B :\",a==b)\n",
    "print(\"A!=B :\",a!=b)\n",
    "print(\"A<=B :\",a<=b)\n",
    "print(\"A>=B :\",a>=b)"
   ]
  },
  {
   "cell_type": "markdown",
   "id": "84c40d13",
   "metadata": {},
   "source": [
    "# Demo - Control Structure "
   ]
  },
  {
   "cell_type": "code",
   "execution_count": 3,
   "id": "af186d08",
   "metadata": {},
   "outputs": [
    {
     "name": "stdout",
     "output_type": "stream",
     "text": [
      "Enter a number :45\n",
      "45  is odd number.\n"
     ]
    }
   ],
   "source": [
    "#if-else\n",
    "a=int(input(\"Enter a number :\"))\n",
    "if a%2==0:\n",
    "    print(a,\" is even number.\")\n",
    "else:\n",
    "    print(a,\" is odd number.\")"
   ]
  },
  {
   "cell_type": "code",
   "execution_count": 4,
   "id": "b6ee043d",
   "metadata": {},
   "outputs": [
    {
     "name": "stdout",
     "output_type": "stream",
     "text": [
      "Enter a number34\n",
      "34  is  even\n"
     ]
    }
   ],
   "source": [
    "#By using conditional operator\n",
    "a=int(input(\"Enter a number\"))\n",
    "x=\"even\" if a%2==0 else \"odd\"\n",
    "print(a,\" is \",x)"
   ]
  },
  {
   "cell_type": "code",
   "execution_count": 6,
   "id": "e2cae54a",
   "metadata": {},
   "outputs": [
    {
     "name": "stdout",
     "output_type": "stream",
     "text": [
      "Enter your mark in first subject : 67\n",
      "Enter your Mark in second subject : 89\n",
      "Grade: B\n"
     ]
    }
   ],
   "source": [
    "#if - elif - else\n",
    "a=int(input(\"Enter your mark in first subject : \"))\n",
    "b=int(input(\"Enter your Mark in second subject : \"))\n",
    "avg=(a+b)/2\n",
    "if avg>=80:\n",
    "    print(\"Grade: A\")\n",
    "elif avg>=70 and avg<80:\n",
    "    print(\"Grade: B\")\n",
    "elif avg>=60 and avg<70:\n",
    "    print(\"Grade: C\")\n",
    "elif avg>=50 and avg<60:\n",
    "    print(\"Grade: D\")\n",
    "elif avg<50:\n",
    "    print(\"Grade: F\")\n",
    "else:\n",
    "    print(\"Invalid\")"
   ]
  },
  {
   "cell_type": "code",
   "execution_count": 20,
   "id": "8a009385",
   "metadata": {},
   "outputs": [
    {
     "name": "stdout",
     "output_type": "stream",
     "text": [
      "Enter a character: j\n",
      "j  is not in A,B,C\n"
     ]
    }
   ],
   "source": [
    "#Program to illustrate the use of 'in' and 'not in' in if statement\n",
    "ch=input(\"Enter a character: \")\n",
    "if ch in ('a','A','e','E','i','I','o','O','u','U'):\n",
    "    print(ch,\" is a Vowel.\")\n",
    "if ch not in ('a','A','b','B','c','C'):\n",
    "    print(ch,\" is not in A,B,C\")"
   ]
  },
  {
   "cell_type": "code",
   "execution_count": 19,
   "id": "e471cdb6",
   "metadata": {},
   "outputs": [
    {
     "name": "stdout",
     "output_type": "stream",
     "text": [
      "1 \t\n",
      "2 \t\n",
      "3 \t\n",
      "4 \t\n",
      "5 \t\n",
      "6 \t\n",
      "7 \t\n",
      "8 \t\n",
      "9 \t\n"
     ]
    }
   ],
   "source": [
    "#while loop\n",
    "i=1\n",
    "while (i<10):\n",
    "    print(i,\"\\t\")\n",
    "    i=i+1"
   ]
  },
  {
   "cell_type": "code",
   "execution_count": 22,
   "id": "0c9afdba",
   "metadata": {},
   "outputs": [
    {
     "name": "stdout",
     "output_type": "stream",
     "text": [
      "0\n",
      "1\n",
      "1\n",
      "2\n",
      "2\n",
      "2\n",
      "3\n",
      "3\n",
      "3\n",
      "3\n",
      "4\n",
      "4\n",
      "4\n",
      "4\n",
      "4\n"
     ]
    }
   ],
   "source": [
    "for i in range(0,5):\n",
    "    for j in range(0,i+1):\n",
    "        print(i)"
   ]
  },
  {
   "cell_type": "code",
   "execution_count": 24,
   "id": "f8d0be75",
   "metadata": {},
   "outputs": [
    {
     "name": "stdout",
     "output_type": "stream",
     "text": [
      "C o m p u t e r "
     ]
    }
   ],
   "source": [
    "for word in 'Computer':\n",
    "    print(word,end=' ')\n",
    "    "
   ]
  },
  {
   "cell_type": "code",
   "execution_count": 26,
   "id": "70cec224",
   "metadata": {},
   "outputs": [
    {
     "name": "stdout",
     "output_type": "stream",
     "text": [
      "0 \n",
      "\n",
      "1 1 \n",
      "\n",
      "2 2 2 \n",
      "\n",
      "3 3 3 3 \n",
      "\n",
      "4 4 4 4 4 \n",
      "\n"
     ]
    }
   ],
   "source": [
    "for i in range(0,5):\n",
    "    for j in range(0,i+1):\n",
    "        print(i, end=' ')\n",
    "    print(\"\\n\")"
   ]
  },
  {
   "cell_type": "markdown",
   "id": "313e4d17",
   "metadata": {},
   "source": [
    "# Functions"
   ]
  },
  {
   "cell_type": "code",
   "execution_count": 27,
   "id": "c1f9452c",
   "metadata": {},
   "outputs": [
    {
     "name": "stdout",
     "output_type": "stream",
     "text": [
      "Hello - python\n"
     ]
    }
   ],
   "source": [
    "def hello():\n",
    "    print(\"Hello - python\")\n",
    "    return\n",
    "hello()"
   ]
  },
  {
   "cell_type": "code",
   "execution_count": 28,
   "id": "8fa5a5bc",
   "metadata": {},
   "outputs": [
    {
     "name": "stdout",
     "output_type": "stream",
     "text": [
      "30\n"
     ]
    }
   ],
   "source": [
    "def addition(a,b):\n",
    "    return a+b\n",
    "print(addition(10,20))"
   ]
  },
  {
   "cell_type": "code",
   "execution_count": 29,
   "id": "b1480f5d",
   "metadata": {},
   "outputs": [
    {
     "name": "stdout",
     "output_type": "stream",
     "text": [
      "Hi,  Ajay\n"
     ]
    }
   ],
   "source": [
    "def printing(name):\n",
    "    print(\"Hi, \",name)\n",
    "    return\n",
    "printing(\"Ajay\")"
   ]
  },
  {
   "cell_type": "code",
   "execution_count": 30,
   "id": "2330c004",
   "metadata": {},
   "outputs": [
    {
     "name": "stdout",
     "output_type": "stream",
     "text": [
      "Ajay  is  20  year old.\n"
     ]
    }
   ],
   "source": [
    "def information(name, Age):\n",
    "    print(name, \" is \",Age,\" year old.\")\n",
    "    return\n",
    "information(\"Ajay\",20)"
   ]
  },
  {
   "cell_type": "code",
   "execution_count": 31,
   "id": "a28bdee7",
   "metadata": {},
   "outputs": [
    {
     "name": "stdout",
     "output_type": "stream",
     "text": [
      "Printing two values\n",
      "1 2\n",
      "Printing three values\n",
      "10 20 30\n"
     ]
    }
   ],
   "source": [
    "#Variable Length Arguments\n",
    "def printnos(*nos):\n",
    "    for n in nos:\n",
    "        print(n)\n",
    "    return\n",
    "print(\"Printing two values\")\n",
    "print(1,2)\n",
    "print(\"Printing three values\")\n",
    "print(10,20,30)"
   ]
  },
  {
   "cell_type": "code",
   "execution_count": 50,
   "id": "851fb919",
   "metadata": {},
   "outputs": [
    {
     "name": "stdout",
     "output_type": "stream",
     "text": [
      "The Sum is :  70\n",
      "The Sum is :  40\n"
     ]
    }
   ],
   "source": [
    "#Lambda or Anonymous Function\n",
    "sum1=lambda arg1,arg2:arg1+arg2\n",
    "print(\"The Sum is : \",sum1(30,40))\n",
    "print(\"The Sum is : \",sum1(-20,60))"
   ]
  },
  {
   "cell_type": "markdown",
   "id": "321a0e73",
   "metadata": {},
   "source": [
    "# Functions using Libraries"
   ]
  },
  {
   "cell_type": "code",
   "execution_count": 51,
   "id": "89591788",
   "metadata": {},
   "outputs": [
    {
     "name": "stdout",
     "output_type": "stream",
     "text": [
      "x =  20\n",
      "y =  23\n"
     ]
    }
   ],
   "source": [
    "#absolute function\n",
    "x=20\n",
    "y=-23\n",
    "print(\"x = \",abs(x))\n",
    "print(\"y = \",abs(y))"
   ]
  },
  {
   "cell_type": "code",
   "execution_count": 52,
   "id": "e0a26c90",
   "metadata": {},
   "outputs": [
    {
     "name": "stdout",
     "output_type": "stream",
     "text": [
      "A\n",
      "_\n"
     ]
    }
   ],
   "source": [
    "#character function\n",
    "c=65\n",
    "d=95\n",
    "print(chr(c))\n",
    "print(chr(d))"
   ]
  },
  {
   "cell_type": "code",
   "execution_count": 53,
   "id": "15e2e14b",
   "metadata": {},
   "outputs": [
    {
     "name": "stdout",
     "output_type": "stream",
     "text": [
      "97\n",
      "68\n"
     ]
    }
   ],
   "source": [
    "#reverse chr function\n",
    "c='a'\n",
    "d='D'\n",
    "print(ord(c))\n",
    "print(ord(d))"
   ]
  },
  {
   "cell_type": "code",
   "execution_count": 54,
   "id": "e55caf02",
   "metadata": {},
   "outputs": [
    {
     "name": "stdout",
     "output_type": "stream",
     "text": [
      "15  in Binary  0b1111\n",
      "1001  in Binary  0b1111101001\n"
     ]
    }
   ],
   "source": [
    "#binary converter\n",
    "x=15\n",
    "y=1001\n",
    "print(x,\" in Binary \",bin(x))\n",
    "print(y,\" in Binary \",bin(y))"
   ]
  },
  {
   "cell_type": "code",
   "execution_count": 55,
   "id": "37311750",
   "metadata": {},
   "outputs": [
    {
     "name": "stdout",
     "output_type": "stream",
     "text": [
      "<class 'float'>\n",
      "<class 'str'>\n",
      "<class 'bool'>\n"
     ]
    }
   ],
   "source": [
    "#type() function\n",
    "x=15.2\n",
    "y='a'\n",
    "s= True\n",
    "print(type(x))\n",
    "print(type(y))\n",
    "print(type(s))"
   ]
  },
  {
   "cell_type": "code",
   "execution_count": 56,
   "id": "f4292ad0",
   "metadata": {},
   "outputs": [
    {
     "name": "stdout",
     "output_type": "stream",
     "text": [
      "address of x is : 1835694097072\n",
      "address of y is : 1835695513008\n"
     ]
    }
   ],
   "source": [
    "#id() function\n",
    "x=15\n",
    "y='a'\n",
    "print(\"address of x is :\",id(x))\n",
    "print(\"address of y is :\",id(y))"
   ]
  },
  {
   "cell_type": "code",
   "execution_count": 57,
   "id": "79ea6126",
   "metadata": {},
   "outputs": [
    {
     "name": "stdout",
     "output_type": "stream",
     "text": [
      "28\n"
     ]
    }
   ],
   "source": [
    "#minimum function\n",
    "Mylist=[59,57,68,35,28]\n",
    "print(min(Mylist))"
   ]
  },
  {
   "cell_type": "code",
   "execution_count": 58,
   "id": "ff07104e",
   "metadata": {},
   "outputs": [
    {
     "name": "stdout",
     "output_type": "stream",
     "text": [
      "68\n"
     ]
    }
   ],
   "source": [
    "#maximum function\n",
    "Mylist=[59,57,68,35,28]\n",
    "print(max(Mylist))"
   ]
  },
  {
   "cell_type": "code",
   "execution_count": 1,
   "id": "f7dab22e",
   "metadata": {},
   "outputs": [
    {
     "name": "stdout",
     "output_type": "stream",
     "text": [
      "247\n"
     ]
    }
   ],
   "source": [
    "#sum() function\n",
    "Mylist=[59,57,68,35,28]\n",
    "print(sum(Mylist))"
   ]
  },
  {
   "cell_type": "code",
   "execution_count": 2,
   "id": "369be5cc",
   "metadata": {},
   "outputs": [
    {
     "name": "stdout",
     "output_type": "stream",
     "text": [
      "x value in binary : 1110\n",
      "y value in octal : 104\n",
      "y value in fixed point no. : 68.000000\n"
     ]
    }
   ],
   "source": [
    "#format() function\n",
    "x=14\n",
    "y=68\n",
    "print(\"x value in binary :\",format(x,'b'))\n",
    "print(\"y value in octal :\",format(y,'o'))\n",
    "print(\"y value in fixed point no. :\",format(y,'f'))"
   ]
  },
  {
   "cell_type": "code",
   "execution_count": 3,
   "id": "724cb06e",
   "metadata": {},
   "outputs": [
    {
     "name": "stdout",
     "output_type": "stream",
     "text": [
      "18\n",
      "22\n",
      "-15\n"
     ]
    }
   ],
   "source": [
    "# round() function\n",
    "x=17.9\n",
    "y=22.3\n",
    "z=-14.7\n",
    "print(round(x))\n",
    "print(round(y))\n",
    "print(round(z))"
   ]
  },
  {
   "cell_type": "code",
   "execution_count": 4,
   "id": "6a5d5f22",
   "metadata": {},
   "outputs": [
    {
     "name": "stdout",
     "output_type": "stream",
     "text": [
      "5 8\n",
      "390625\n"
     ]
    }
   ],
   "source": [
    "#power function\n",
    "a=5\n",
    "b=8\n",
    "print(a,b)\n",
    "print(pow(a,b))"
   ]
  },
  {
   "cell_type": "code",
   "execution_count": 6,
   "id": "d65edecf",
   "metadata": {},
   "outputs": [
    {
     "name": "stdout",
     "output_type": "stream",
     "text": [
      "26\n",
      "-36\n",
      "-46\n"
     ]
    }
   ],
   "source": [
    "#math.floor function\n",
    "import math\n",
    "x=26.7\n",
    "y=-35.6\n",
    "z=-45.4\n",
    "print(math.floor(x))\n",
    "print(math.floor(y))\n",
    "print(math.floor(z))"
   ]
  },
  {
   "cell_type": "code",
   "execution_count": 7,
   "id": "161ce5ee",
   "metadata": {},
   "outputs": [
    {
     "name": "stdout",
     "output_type": "stream",
     "text": [
      "27\n",
      "-35\n",
      "-45\n"
     ]
    }
   ],
   "source": [
    "#math.ceil function\n",
    "import math\n",
    "x=26.7\n",
    "y=-35.6\n",
    "z=-45.4\n",
    "print(math.ceil(x))\n",
    "print(math.ceil(y))\n",
    "print(math.ceil(z))"
   ]
  },
  {
   "cell_type": "code",
   "execution_count": 10,
   "id": "fbc4603a",
   "metadata": {},
   "outputs": [
    {
     "name": "stdout",
     "output_type": "stream",
     "text": [
      "5.167204273105526\n",
      "5.966573556070519\n",
      "6.7379522111692065\n"
     ]
    }
   ],
   "source": [
    "#math Squareroot function\n",
    "import math\n",
    "x=26.7\n",
    "y=35.6\n",
    "z=45.4\n",
    "print(math.sqrt(x))\n",
    "print(math.sqrt(y))\n",
    "print(math.sqrt(z))"
   ]
  },
  {
   "cell_type": "code",
   "execution_count": 13,
   "id": "7bfc3648",
   "metadata": {},
   "outputs": [
    {
     "name": "stdout",
     "output_type": "stream",
     "text": [
      "Enter any arithmathic expression :78+87\n",
      "165\n"
     ]
    }
   ],
   "source": [
    "#Composition function\n",
    "a=eval(input(\"Enter any arithmathic expression :\"))\n",
    "print(a)"
   ]
  },
  {
   "cell_type": "code",
   "execution_count": 2,
   "id": "4d1c62ce",
   "metadata": {},
   "outputs": [
    {
     "name": "stdout",
     "output_type": "stream",
     "text": [
      "40320\n"
     ]
    }
   ],
   "source": [
    "#Calculation of Factorial using recursive function\n",
    "def fact(n):\n",
    "    if(n==0):\n",
    "        return 1\n",
    "    else:\n",
    "        return n*fact(n-1)\n",
    "print(fact(8))"
   ]
  },
  {
   "cell_type": "code",
   "execution_count": 4,
   "id": "1e6feb0b",
   "metadata": {},
   "outputs": [
    {
     "name": "stdout",
     "output_type": "stream",
     "text": [
      "788657867364790503552363213932185062295135977687173263294742533244359449963403342920304284011984623904177212138919638830257642790242637105061926624952829931113462857270763317237396988943922445621451664240254033291864131227428294853277524242407573903240321257405579568660226031904170324062351700858796178922222789623703897374720000000000000000000000000000000000000000000000000\n"
     ]
    }
   ],
   "source": [
    "#with recursive limit\n",
    "import sys\n",
    "sys.setrecursionlimit(3000)\n",
    "def fact(n):\n",
    "    if n==0:\n",
    "        return 1\n",
    "    else:\n",
    "        return n*fact(n-1)\n",
    "print(fact(200))\n"
   ]
  },
  {
   "cell_type": "markdown",
   "id": "a51ea57c",
   "metadata": {},
   "source": [
    "# Strings and String Manipulation"
   ]
  },
  {
   "cell_type": "code",
   "execution_count": 6,
   "id": "9e0a3a63",
   "metadata": {},
   "outputs": [
    {
     "name": "stdout",
     "output_type": "stream",
     "text": [
      "Enter a string :Welcome\n",
      "Subscript [ 0 ]  W\n",
      "Subscript [ 1 ]  e\n",
      "Subscript [ 2 ]  l\n",
      "Subscript [ 3 ]  c\n",
      "Subscript [ 4 ]  o\n",
      "Subscript [ 5 ]  m\n",
      "Subscript [ 6 ]  e\n"
     ]
    }
   ],
   "source": [
    "#program to access each character  with its positive subscript of a giving string\n",
    "str1=input(\"Enter a string :\")\n",
    "index=0\n",
    "for i in str1:\n",
    "    print(\"Subscript [\",index,\"] \",i)\n",
    "    index+=1"
   ]
  },
  {
   "cell_type": "code",
   "execution_count": 9,
   "id": "de33c23d",
   "metadata": {},
   "outputs": [
    {
     "name": "stdout",
     "output_type": "stream",
     "text": [
      "Enter a string :Welcome\n",
      "Subscript [ -1 ]  e\n",
      "Subscript [ -2 ]  m\n",
      "Subscript [ -3 ]  o\n",
      "Subscript [ -4 ]  c\n",
      "Subscript [ -5 ]  l\n",
      "Subscript [ -6 ]  e\n",
      "Subscript [ -7 ]  W\n"
     ]
    }
   ],
   "source": [
    "#Program to access each character with its negative subscript of a giving string\n",
    "str1=input(\"Enter a string :\")\n",
    "index=-1\n",
    "while(index >=-(len(str1))):\n",
    "    print(\"Subscript [\",index,\"] \",str1[index])\n",
    "    index+=-1"
   ]
  },
  {
   "cell_type": "code",
   "execution_count": 10,
   "id": "e7941e80",
   "metadata": {},
   "outputs": [
    {
     "name": "stdout",
     "output_type": "stream",
     "text": [
      "Enter a string :Welcome\n",
      "W\n",
      "We\n",
      "Wel\n",
      "Welc\n",
      "Welco\n",
      "Welcom\n",
      "Welcome\n"
     ]
    }
   ],
   "source": [
    "str1=input(\"Enter a string :\")\n",
    "index=0\n",
    "for i in str1:\n",
    "    print(str1[:index+1])\n",
    "    index+=1"
   ]
  },
  {
   "cell_type": "code",
   "execution_count": 13,
   "id": "01c98748",
   "metadata": {},
   "outputs": [
    {
     "name": "stdout",
     "output_type": "stream",
     "text": [
      "Enter your name: Ajay S\n",
      "Enter your mark: 100\n",
      "Name: Ajay S , Mark: 100\n"
     ]
    }
   ],
   "source": [
    "#String formating Operators\n",
    "name=input(\"Enter your name: \")\n",
    "mark=int(input(\"Enter your mark: \"))\n",
    "print(\"Name: %s , Mark: %d\"%(name,mark))"
   ]
  },
  {
   "cell_type": "code",
   "execution_count": 14,
   "id": "3b6f9599",
   "metadata": {},
   "outputs": [
    {
     "name": "stdout",
     "output_type": "stream",
     "text": [
      "7\n"
     ]
    }
   ],
   "source": [
    "a=\"Chennai\"\n",
    "print(len(a))"
   ]
  },
  {
   "cell_type": "code",
   "execution_count": 15,
   "id": "7a1b9588",
   "metadata": {},
   "outputs": [
    {
     "name": "stdout",
     "output_type": "stream",
     "text": [
      "Chennai\n"
     ]
    }
   ],
   "source": [
    "a=\"chennai\"\n",
    "print(a.capitalize())"
   ]
  },
  {
   "cell_type": "code",
   "execution_count": 17,
   "id": "ab09f90a",
   "metadata": {},
   "outputs": [
    {
     "name": "stdout",
     "output_type": "stream",
     "text": [
      "      Chennai       \n"
     ]
    }
   ],
   "source": [
    "a=\"Chennai\"\n",
    "print(a.center(20,\" \"))"
   ]
  },
  {
   "cell_type": "code",
   "execution_count": 29,
   "id": "fd942aaf",
   "metadata": {},
   "outputs": [
    {
     "name": "stdout",
     "output_type": "stream",
     "text": [
      "3\n",
      "-1\n",
      "3\n"
     ]
    }
   ],
   "source": [
    "a=\"Chennai\"\n",
    "print(a.find(\"nn\"))\n",
    "print(a.find(\"nn\",6))\n",
    "print(a.find(\"nn\",1,7))"
   ]
  },
  {
   "cell_type": "code",
   "execution_count": 30,
   "id": "4b3d88bc",
   "metadata": {},
   "outputs": [
    {
     "name": "stdout",
     "output_type": "stream",
     "text": [
      "2\n"
     ]
    }
   ],
   "source": [
    "a=\"Chennai\"\n",
    "print(a.count(\"n\"))"
   ]
  },
  {
   "cell_type": "code",
   "execution_count": 31,
   "id": "2de4a588",
   "metadata": {},
   "outputs": [
    {
     "name": "stdout",
     "output_type": "stream",
     "text": [
      "cHENNAI\n"
     ]
    }
   ],
   "source": [
    "a=\"Chennai\"\n",
    "print(a.swapcase())"
   ]
  },
  {
   "cell_type": "code",
   "execution_count": 34,
   "id": "942ce084",
   "metadata": {},
   "outputs": [
    {
     "name": "stdout",
     "output_type": "stream",
     "text": [
      "Enter a String : txt\n",
      "The given string = txt \n",
      " The reversed string = txt\n",
      "Hence, the given string is Palindrome\n"
     ]
    }
   ],
   "source": [
    "str1=input(\"Enter a String : \")\n",
    "str2=\"\"\n",
    "index=-1\n",
    "for i in str1:\n",
    "    str2+=str1[index]\n",
    "    index-=1\n",
    "print(\"The given string = {} \\n The reversed string = {}\".format(str1,str2))\n",
    "if (str1==str2):\n",
    "    print(\"Hence, the given string is Palindrome\")\n",
    "else:\n",
    "    print(\"Hence, the given is not palindrome\")"
   ]
  },
  {
   "cell_type": "code",
   "execution_count": 35,
   "id": "68f3edc4",
   "metadata": {},
   "outputs": [
    {
     "name": "stdout",
     "output_type": "stream",
     "text": [
      "*\n",
      "**\n",
      "***\n",
      "****\n",
      "*****\n"
     ]
    }
   ],
   "source": [
    "str1=\"*\"\n",
    "i=1\n",
    "while i<=5:\n",
    "    print(str1*i)\n",
    "    i+=1"
   ]
  },
  {
   "cell_type": "code",
   "execution_count": 37,
   "id": "f6dc5e7b",
   "metadata": {},
   "outputs": [
    {
     "name": "stdout",
     "output_type": "stream",
     "text": [
      "Enter a string:Welcome\n",
      "The given string contains 3 vowels and 4 connstants\n"
     ]
    }
   ],
   "source": [
    "str1=input(\"Enter a string:\")\n",
    "str2=\"aAeEiIoOuU\"\n",
    "v,c=0,0\n",
    "for i in str1:\n",
    "    if i in str2:\n",
    "        v+=1\n",
    "    else:\n",
    "        c+=1\n",
    "print(\"The given string contains {} vowels and {} connstants\".format(v,c))"
   ]
  },
  {
   "cell_type": "code",
   "execution_count": 39,
   "id": "c18203d2",
   "metadata": {},
   "outputs": [
    {
     "name": "stdout",
     "output_type": "stream",
     "text": [
      "Enter a string: Welcome\n",
      "The string without vowels:  Wlcm\n"
     ]
    }
   ],
   "source": [
    "def rem_vowels(s):\n",
    "    temp_str=\"\"\n",
    "    for i in s:\n",
    "        if i in \"aAeEiIoOuU\":\n",
    "            pass\n",
    "        else:\n",
    "            temp_str+=i\n",
    "    print(\"The string without vowels: \",temp_str)\n",
    "str1=input(\"Enter a string: \")\n",
    "rem_vowels(str1)"
   ]
  },
  {
   "cell_type": "code",
   "execution_count": 41,
   "id": "184a38e7",
   "metadata": {},
   "outputs": [
    {
     "name": "stdout",
     "output_type": "stream",
     "text": [
      "Enter a String: Welcome\n",
      "Enter a charachter to be searched: e\n",
      "The given charchter e is occures 2 times in the given string\n"
     ]
    }
   ],
   "source": [
    "def count(s,c):\n",
    "    c1=0\n",
    "    for i in s:\n",
    "        if i==c:\n",
    "            c1+=1\n",
    "    return c1\n",
    "str1=input(\"Enter a String: \")\n",
    "ch=input(\"Enter a charachter to be searched: \")\n",
    "cnt=count(str1,ch)\n",
    "print(\"The given charchter {} is occures {} times in the given string\".format(ch,cnt))"
   ]
  },
  {
   "cell_type": "markdown",
   "id": "c992946d",
   "metadata": {},
   "source": [
    "# Lists, Tuples, Sets and Dictionary"
   ]
  },
  {
   "cell_type": "code",
   "execution_count": 2,
   "id": "90c0851d",
   "metadata": {},
   "outputs": [
    {
     "name": "stdout",
     "output_type": "stream",
     "text": [
      "10\n",
      "23\n",
      "45\n",
      "67\n",
      "87\n"
     ]
    }
   ],
   "source": [
    "#Sample\n",
    "marks=[10,23,45,67,87]\n",
    "i=0\n",
    "while i<5:\n",
    "    print(marks[i])\n",
    "    i=i+1\n",
    "    "
   ]
  },
  {
   "cell_type": "code",
   "execution_count": 6,
   "id": "02aec849",
   "metadata": {},
   "outputs": [
    {
     "name": "stdout",
     "output_type": "stream",
     "text": [
      "87\n",
      "67\n",
      "45\n",
      "23\n",
      "10\n"
     ]
    }
   ],
   "source": [
    "#Sample\n",
    "marks=[10,23,45,67,87]\n",
    "i=-1\n",
    "while i>=-5:\n",
    "    print(marks[i])\n",
    "    i=i-1"
   ]
  },
  {
   "cell_type": "code",
   "execution_count": 19,
   "id": "630285ad",
   "metadata": {},
   "outputs": [
    {
     "name": "stdout",
     "output_type": "stream",
     "text": [
      "[5, 6, 7, 8, 9, 10, 11, 12, 13, 14, 15]\n"
     ]
    }
   ],
   "source": [
    "mylist=list(range(5,16))\n",
    "print(mylist)"
   ]
  },
  {
   "cell_type": "code",
   "execution_count": 20,
   "id": "8500cdda",
   "metadata": {},
   "outputs": [
    {
     "name": "stdout",
     "output_type": "stream",
     "text": [
      "[1, 6, 7, 8, 9, 10, 11, 12, 13, 14, 15]\n"
     ]
    }
   ],
   "source": [
    "mylist[0]=1\n",
    "print(mylist)"
   ]
  },
  {
   "cell_type": "code",
   "execution_count": 21,
   "id": "cffa6b3d",
   "metadata": {},
   "outputs": [
    {
     "name": "stdout",
     "output_type": "stream",
     "text": [
      "[0, 1, 2, 3, 4, 10, 11, 12, 13, 14, 15]\n"
     ]
    }
   ],
   "source": [
    "mylist[0:5]=0,1,2,3,4\n",
    "print(mylist)"
   ]
  },
  {
   "cell_type": "code",
   "execution_count": 22,
   "id": "1d2c7f72",
   "metadata": {},
   "outputs": [
    {
     "name": "stdout",
     "output_type": "stream",
     "text": [
      "[10, 11, 12, 13, 14, 15]\n"
     ]
    }
   ],
   "source": [
    "del mylist[0:5]\n",
    "print(mylist)"
   ]
  },
  {
   "cell_type": "code",
   "execution_count": 23,
   "id": "defac2f7",
   "metadata": {},
   "outputs": [
    {
     "name": "stdout",
     "output_type": "stream",
     "text": [
      "[11, 12, 13, 14, 15]\n"
     ]
    }
   ],
   "source": [
    "mylist.remove(10)\n",
    "print(mylist)"
   ]
  },
  {
   "cell_type": "code",
   "execution_count": 24,
   "id": "b6729a34",
   "metadata": {},
   "outputs": [
    {
     "name": "stdout",
     "output_type": "stream",
     "text": [
      "[1, 4, 9, 16, 25, 36, 49, 64, 81, 100, 121, 144, 169, 196, 225, 256, 289, 324, 361, 400, 441, 484, 529, 576, 625, 676, 729, 784, 841, 900, 961, 1024, 1089, 1156, 1225, 1296, 1369, 1444, 1521, 1600, 1681, 1764, 1849, 1936, 2025, 2116, 2209, 2304, 2401, 2500]\n"
     ]
    }
   ],
   "source": [
    "squares=[x**2 for x in range(1,51)]\n",
    "print(squares)"
   ]
  },
  {
   "cell_type": "markdown",
   "id": "f64eb073",
   "metadata": {},
   "source": [
    "# List Functions"
   ]
  },
  {
   "cell_type": "code",
   "execution_count": 25,
   "id": "68418467",
   "metadata": {},
   "outputs": [
    {
     "name": "stdout",
     "output_type": "stream",
     "text": [
      "[2, 4, 6, 8, 10, 12, 14, 16, 18, 20, 22, 24, 26, 28, 30, 32, 34, 36, 38, 40, 42, 44, 46, 48, 50]\n"
     ]
    }
   ],
   "source": [
    "mylist=list(range(2,51,2))\n",
    "x=mylist.copy()\n",
    "print(x)"
   ]
  },
  {
   "cell_type": "code",
   "execution_count": 26,
   "id": "ebbe7f78",
   "metadata": {},
   "outputs": [
    {
     "name": "stdout",
     "output_type": "stream",
     "text": [
      "1\n"
     ]
    }
   ],
   "source": [
    "print(mylist.count(20))"
   ]
  },
  {
   "cell_type": "code",
   "execution_count": 27,
   "id": "e6fe3259",
   "metadata": {},
   "outputs": [
    {
     "name": "stdout",
     "output_type": "stream",
     "text": [
      "9\n"
     ]
    }
   ],
   "source": [
    "print(mylist.index(20))"
   ]
  },
  {
   "cell_type": "code",
   "execution_count": 30,
   "id": "8f7c1286",
   "metadata": {},
   "outputs": [
    {
     "name": "stdout",
     "output_type": "stream",
     "text": [
      "[50, 48, 46, 44, 42, 40, 38, 36, 34, 32, 30, 28, 26, 24, 22, 20, 18, 16, 14, 12, 10, 8, 6, 4, 2]\n"
     ]
    }
   ],
   "source": [
    "mylist.reverse()\n",
    "print(mylist)"
   ]
  },
  {
   "cell_type": "code",
   "execution_count": 31,
   "id": "6b7378a0",
   "metadata": {},
   "outputs": [
    {
     "name": "stdout",
     "output_type": "stream",
     "text": [
      "[2, 4, 6, 8, 10, 12, 14, 16, 18, 20, 22, 24, 26, 28, 30, 32, 34, 36, 38, 40, 42, 44, 46, 48, 50]\n"
     ]
    }
   ],
   "source": [
    "mylist.sort()\n",
    "print(mylist)"
   ]
  },
  {
   "cell_type": "code",
   "execution_count": 33,
   "id": "a21e310e",
   "metadata": {},
   "outputs": [
    {
     "name": "stdout",
     "output_type": "stream",
     "text": [
      "[2, 4, 6, 8, 10, 12, 14, 16, 18, 20, 22, 24, 26, 28, 30, 32, 34, 36, 38, 40, 42, 44, 46, 48, 50]\n"
     ]
    }
   ],
   "source": [
    "mylist.sort(reverse=False)\n",
    "print(mylist)"
   ]
  },
  {
   "cell_type": "code",
   "execution_count": 34,
   "id": "a49a014b",
   "metadata": {},
   "outputs": [
    {
     "name": "stdout",
     "output_type": "stream",
     "text": [
      "50\n",
      "2\n",
      "650\n"
     ]
    }
   ],
   "source": [
    "print(max(mylist))\n",
    "print(min(mylist))\n",
    "print(sum(mylist))"
   ]
  },
  {
   "cell_type": "code",
   "execution_count": 35,
   "id": "c6fabc19",
   "metadata": {},
   "outputs": [
    {
     "name": "stdout",
     "output_type": "stream",
     "text": [
      "[0, 4, 8, 12, 16, 20]\n"
     ]
    }
   ],
   "source": [
    "divBy=[]\n",
    "for i in range(21):\n",
    "    if(i%4==0):\n",
    "        divBy.append(i)\n",
    "print(divBy)"
   ]
  },
  {
   "cell_type": "markdown",
   "id": "52ff1d52",
   "metadata": {},
   "source": [
    "# Programs using List"
   ]
  },
  {
   "cell_type": "code",
   "execution_count": 37,
   "id": "93092663",
   "metadata": {},
   "outputs": [
    {
     "name": "stdout",
     "output_type": "stream",
     "text": [
      "enter the name of the country India\n",
      "India is the member of BRICS\n"
     ]
    }
   ],
   "source": [
    "#Program to define a list of countries that are a member of BRICS. Check whether the country is a member of BRICS\n",
    "country=[\"India\",\"Russia\",\"Srilanka\",\"China\",\"Brazil\"]\n",
    "is_member=input(\"enter the name of the country \")\n",
    "if is_member in country:\n",
    "    print(is_member,\"is the member of BRICS\")\n",
    "else:\n",
    "    print(ismember,\"is not the member of BRICS\")"
   ]
  },
  {
   "cell_type": "code",
   "execution_count": 41,
   "id": "16734c1f",
   "metadata": {},
   "outputs": [
    {
     "name": "stdout",
     "output_type": "stream",
     "text": [
      "Tamil\n",
      "Enter your mark in 90\n",
      "English\n",
      "Enter your mark in 99\n",
      "Physics\n",
      "Enter your mark in 80\n",
      "Chemistry\n",
      "Enter your mark in 85\n",
      "Computer Science\n",
      "Enter your mark in 100\n",
      "Maths\n",
      "Enter your mark in 80\n",
      "1. Tamil Mark = 90\n",
      "2. English Mark = 99\n",
      "3. Physics Mark = 80\n",
      "4. Chemistry Mark = 85\n",
      "5. Computer Science Mark = 100\n",
      "6. Maths Mark = 80\n",
      "Total Marks =  534\n"
     ]
    }
   ],
   "source": [
    "#Program tp read marks of six subjects and print the marks scored in each subject and show the total marks\n",
    "marks=[]\n",
    "subjects=[\"Tamil\",\"English\",\"Physics\",\"Chemistry\",\"Computer Science\",\"Maths\"]\n",
    "for i in range(6):\n",
    "    print(subjects[i])\n",
    "    m=int(input(\"Enter your mark in \"))\n",
    "    marks.append(m)\n",
    "for j in range(len(marks)):\n",
    "    print(\"{}. {} Mark = {}\".format(j+1,subjects[j],marks[j]))\n",
    "print(\"Total Marks = \",sum(marks))"
   ]
  },
  {
   "cell_type": "code",
   "execution_count": 45,
   "id": "c397f87c",
   "metadata": {},
   "outputs": [
    {
     "name": "stdout",
     "output_type": "stream",
     "text": [
      "Enter price for item 1:\n",
      "46\n",
      "Enter price for item 2:\n",
      "45\n",
      "Enter price for item 3:\n",
      "54\n",
      "Enter price for item 4:\n",
      "65\n",
      "Enter price for item 5:\n",
      "656\n",
      "Price for item 1 = Rs. 46\n",
      "Price for item 2 = Rs. 45\n",
      "Price for item 3 = Rs. 54\n",
      "Price for item 4 = Rs. 65\n",
      "Price for item 5 = Rs. 656\n",
      "Sum of all prices = Rs. 866\n",
      "Average of all prices = Rs. 173.2\n"
     ]
    }
   ],
   "source": [
    "#Program to read prices of 5 items in a list and then display sum of all the prices and average of it\n",
    "items=[]\n",
    "prod=1\n",
    "for i in range(5):\n",
    "    print(\"Enter price for item {}:\".format(i+1))\n",
    "    p=int(input())\n",
    "    items.append(p)\n",
    "for j in range(len(items)):\n",
    "    print(\"Price for item {} = Rs. {}\".format(j+1,items[j]))\n",
    "    prod=prod*items[j]\n",
    "print(\"Sum of all prices = Rs.\",sum(items))\n",
    "print(\"Average of all prices = Rs.\",sum(items)/len(items))"
   ]
  },
  {
   "cell_type": "code",
   "execution_count": 46,
   "id": "d26e9e3e",
   "metadata": {},
   "outputs": [
    {
     "name": "stdout",
     "output_type": "stream",
     "text": [
      "Enter the number of employees: 3\n",
      "No. of Employees  3\n",
      "Enter monthly salary of Employee 1 Rs.:\n",
      " : 4000\n",
      "Enter monthly salary of Employee 2 Rs.:\n",
      " : 5600\n",
      "Enter monthly salary of Employee 3 Rs.:\n",
      " : 5700\n",
      "Annual Salary of employee 1 is Rs: 48000\n",
      "Annual Salary of employee 2 is Rs: 67200\n",
      "Annual Salary of employee 3 is Rs: 68400\n",
      "0 Employee out of 3 are earning more than Rs. 100000 per annum\n"
     ]
    }
   ],
   "source": [
    "#Program to count the number of employees earning more than 1 lakh per annum. The monthly salaries of n numbers of employees are given\n",
    "count=0\n",
    "n=int(input(\"Enter the number of employees: \"))\n",
    "print(\"No. of Employees \",n)\n",
    "salary=[]\n",
    "for i in range(n):\n",
    "    print(\"Enter monthly salary of Employee {} Rs.:\".format(i+1))\n",
    "    s=int(input(\" : \"))\n",
    "    salary.append(s)\n",
    "for j in range(len(salary)):\n",
    "    annual_salary=salary[j]*12\n",
    "    print(\"Annual Salary of employee {} is Rs: {}\".format(j+1,annual_salary))\n",
    "    if annual_salary>=100000:\n",
    "        count+=1\n",
    "print(\"{} Employee out of {} are earning more than Rs. 100000 per annum\".format(count,n))"
   ]
  },
  {
   "cell_type": "code",
   "execution_count": 48,
   "id": "c1123855",
   "metadata": {},
   "outputs": [
    {
     "name": "stdout",
     "output_type": "stream",
     "text": [
      "The list of numbers from 1 to 10 =  [1, 2, 3, 4, 5, 6, 7, 8, 9, 10]\n",
      "The list after deleting even numbers =  [1, 3, 5, 7, 9]\n"
     ]
    }
   ],
   "source": [
    "#program to create a list of numbers in the range 1 to 10. Then delete all the even numbers from the list and print the final list\n",
    "Num=[]\n",
    "for x in range(1,11):\n",
    "    Num.append(x)\n",
    "print(\"The list of numbers from 1 to 10 = \",Num)\n",
    "for index, i in enumerate(Num):\n",
    "    if (i%2==0):\n",
    "        del Num[index]\n",
    "print(\"The list after deleting even numbers = \", Num)"
   ]
  },
  {
   "cell_type": "code",
   "execution_count": 50,
   "id": "c8697c2a",
   "metadata": {},
   "outputs": [
    {
     "name": "stdout",
     "output_type": "stream",
     "text": [
      "Enter a number: 40\n",
      "Fibonacci Series upto 40 terms is [0, 1, 1, 2, 3, 5, 8, 13, 21, 34, 55, 89, 144, 233, 377, 610, 987, 1597, 2584, 4181, 6765, 10946, 17711, 28657, 46368, 75025, 121393, 196418, 317811, 514229, 832040, 1346269, 2178309, 3524578, 5702887, 9227465, 14930352, 24157817, 39088169, 63245986]\n",
      "The sum of the given Fibonacci series is :  165580140\n"
     ]
    }
   ],
   "source": [
    "#Program to generate in the Fibonacci Series and store it in a list Then find of all values\n",
    "a=-1\n",
    "b=1\n",
    "n=int(input(\"Enter a number: \"))\n",
    "i=0\n",
    "sum=0\n",
    "Fibo=[]\n",
    "while(i<n):\n",
    "    s=a+b\n",
    "    Fibo.append(s)\n",
    "    sum+=s\n",
    "    a=b\n",
    "    b=s\n",
    "    i+=1\n",
    "print(\"Fibonacci Series upto \"+ str(n)+\" terms is \"+str(Fibo))\n",
    "print(\"The sum of the given Fibonacci series is : \",sum)"
   ]
  },
  {
   "cell_type": "markdown",
   "id": "08d86f48",
   "metadata": {},
   "source": [
    "# Program using Tuple"
   ]
  },
  {
   "cell_type": "code",
   "execution_count": 51,
   "id": "42beb6d5",
   "metadata": {},
   "outputs": [
    {
     "name": "stdout",
     "output_type": "stream",
     "text": [
      "The Maximum value is :  87\n",
      "The Minimum value is :  12\n"
     ]
    }
   ],
   "source": [
    "#Program return the maximum as well minimum values in a list\n",
    "def Min_Max(n):\n",
    "    a=max(n)\n",
    "    b=min(n)\n",
    "    return (a,b)\n",
    "Num=(12,45,76,43,87,56,34)\n",
    "(Max_Num,Min_Num)=Min_Max(Num)\n",
    "print(\"The Maximum value is : \",Max_Num)\n",
    "print(\"The Minimum value is : \",Min_Num)"
   ]
  },
  {
   "cell_type": "code",
   "execution_count": 52,
   "id": "770306de",
   "metadata": {},
   "outputs": [
    {
     "name": "stdout",
     "output_type": "stream",
     "text": [
      "Enter value of A: 67\n",
      "Enter value of B: 78\n",
      "Value of A =  67 \n",
      " Value of B =  78\n",
      "Value of A =  78 \n",
      " Value of B =  67\n"
     ]
    }
   ],
   "source": [
    "#Program to Swap two value using tuple assignment\n",
    "a=int(input(\"Enter value of A: \"))\n",
    "b=int(input(\"Enter value of B: \"))\n",
    "print(\"Value of A = \",a,\"\\n Value of B = \",b)\n",
    "(a,b)=(b,a)\n",
    "print(\"Value of A = \",a ,\"\\n Value of B = \",b)"
   ]
  },
  {
   "cell_type": "code",
   "execution_count": 54,
   "id": "940e3628",
   "metadata": {},
   "outputs": [
    {
     "name": "stdout",
     "output_type": "stream",
     "text": [
      "Enter the Radius: 10\n",
      "Area of the Circle is =  314.0\n",
      "Circumference of the Circle is =  62.800000000000004\n"
     ]
    }
   ],
   "source": [
    "#Program using a function that return the area and circumference of a circle whose radius is passed as an argument. Two values using tuple assignment\n",
    "pi=3.14\n",
    "def Circle(r):\n",
    "    return (pi*r*r,2*pi*r)\n",
    "radius=float(input(\"Enter the Radius: \"))\n",
    "(area, circum)=Circle(radius)\n",
    "print(\"Area of the Circle is = \",area)\n",
    "print(\"Circumference of the Circle is = \",circum)"
   ]
  },
  {
   "cell_type": "code",
   "execution_count": 56,
   "id": "ee0d3e16",
   "metadata": {},
   "outputs": [
    {
     "name": "stdout",
     "output_type": "stream",
     "text": [
      "Positive Number : (5, 48, 3, 42)\n"
     ]
    }
   ],
   "source": [
    "#Program that has a list of positive and negative numbers. Create a new tuple that has only positive numbers from the list\n",
    "Numbers=(5,-8,48,-34,3,42)\n",
    "positive=()\n",
    "for i in Numbers:\n",
    "    if i>0:\n",
    "        positive+=(i,)\n",
    "print(\"Positive Number :\", positive)"
   ]
  },
  {
   "cell_type": "markdown",
   "id": "1e9c8240",
   "metadata": {},
   "source": [
    "# Program for Sets"
   ]
  },
  {
   "cell_type": "code",
   "execution_count": 59,
   "id": "b0a611fa",
   "metadata": {},
   "outputs": [
    {
     "name": "stdout",
     "output_type": "stream",
     "text": [
      "Even Numbers:  {2, 4, 6, 8, 10, 12, 14, 16, 18, 20}\n",
      "Prime Numbers:  {2, 3, 4, 5, 7, 11, 13, 17, 19}\n",
      "Union:  {2, 3, 4, 5, 6, 7, 8, 10, 11, 12, 13, 14, 16, 17, 18, 19, 20}\n",
      "Intersection:  {2, 4}\n",
      "Difference:  {6, 8, 10, 12, 14, 16, 18, 20}\n",
      "Symmetric Difference:  {3, 5, 6, 7, 8, 10, 11, 12, 13, 14, 16, 17, 18, 19, 20}\n"
     ]
    }
   ],
   "source": [
    "#Program that generates a set of prime numbers and another set of even numbers. Demonstrate the result of union, intersection, difference and symmetric difference operations\n",
    "even=set([x*2 for x in range (1,11)])\n",
    "primes=set()\n",
    "for i in range(2,20):\n",
    "    j=2\n",
    "    f=0\n",
    "    while j<i/2:\n",
    "        if i%j==0:\n",
    "            f=1\n",
    "        j+=1\n",
    "    if f==0:\n",
    "        primes.add(i)\n",
    "print(\"Even Numbers: \",even)\n",
    "print(\"Prime Numbers: \",primes)\n",
    "print(\"Union: \",even.union(primes))\n",
    "print(\"Intersection: \",even.intersection(primes))\n",
    "print(\"Difference: \",even.difference(primes))\n",
    "print(\"Symmetric Difference: \",even.symmetric_difference(primes))"
   ]
  },
  {
   "cell_type": "markdown",
   "id": "51f03c7a",
   "metadata": {},
   "source": [
    "# Program for Dictionary"
   ]
  },
  {
   "cell_type": "code",
   "execution_count": 61,
   "id": "ed03a77d",
   "metadata": {},
   "outputs": [
    {
     "name": "stdout",
     "output_type": "stream",
     "text": [
      "{'RegNo': '4001', 'Name': 'Ajay', 'School': 'DMHSS', 'Address': 'Tenkasi'}\n",
      "Register Number:  Ajay\n"
     ]
    }
   ],
   "source": [
    "#program to access all the values stored in a dictionary\n",
    "MyDict={\n",
    "    'RegNo':\"4001\",\n",
    "    'Name':\"Ajay\",\n",
    "    'School':\"DMHSS\",\n",
    "    'Address':\"Tenkasi\"\n",
    "}\n",
    "print(MyDict)\n",
    "print(\"Register Number: \",MyDict[\"Name\"])"
   ]
  },
  {
   "cell_type": "code",
   "execution_count": 62,
   "id": "3cbb8da0",
   "metadata": {},
   "outputs": [
    {
     "name": "stdout",
     "output_type": "stream",
     "text": [
      "{'RegNo': '4001', 'Name': 'Ajay', 'School': 'DMHSS', 'Address': 'Tenkasi', 'Class': 'Python'}\n"
     ]
    }
   ],
   "source": [
    "MyDict['Class']=\"Python\"\n",
    "print(MyDict)"
   ]
  },
  {
   "cell_type": "code",
   "execution_count": 64,
   "id": "769a61c6",
   "metadata": {},
   "outputs": [
    {
     "name": "stdout",
     "output_type": "stream",
     "text": [
      "{'RegNo': '4001', 'Name': 'Ajay', 'Address': 'Tenkasi', 'Class': 'Python'}\n"
     ]
    }
   ],
   "source": [
    "del MyDict['School']\n",
    "print(MyDict)"
   ]
  },
  {
   "cell_type": "code",
   "execution_count": 65,
   "id": "fa7438fb",
   "metadata": {},
   "outputs": [
    {
     "name": "stdout",
     "output_type": "stream",
     "text": [
      "{}\n"
     ]
    }
   ],
   "source": [
    "MyDict.clear()\n",
    "print(MyDict)"
   ]
  },
  {
   "cell_type": "markdown",
   "id": "1c2c534b",
   "metadata": {},
   "source": [
    "# Additional Programs"
   ]
  },
  {
   "cell_type": "markdown",
   "id": "ebc85d99",
   "metadata": {},
   "source": [
    "# Run this code in python interpreter to find your cgpa for fifth semester"
   ]
  },
  {
   "cell_type": "code",
   "execution_count": 3,
   "id": "9a96546e",
   "metadata": {
    "scrolled": true
   },
   "outputs": [
    {
     "name": "stdout",
     "output_type": "stream",
     "text": [
      "ALGEBRA AND NUMBER THEORY(MA8551)\n",
      "Enter grade for above subject: O\n",
      "\n",
      "COMPUTER NETWORKS(CS8591)\n",
      "Enter grade for above subject: O\n",
      "\n",
      "MICROPROCESSORS AND MICROCONTROLLERS(EC8691)\n",
      "Enter grade for above subject: O\n",
      "\n",
      "THEORY OF COMPUTATION(CS8501)\n",
      "Enter grade for above subject: O\n",
      "\n",
      "OBJECT ORIENTED ANALYSIS AND DESIGN(CS8592)\n",
      "Enter grade for above subject: O\n",
      "\n",
      "MICROPROCESSORS AND MICROCONTROLLERS LABORATORY(EC8681)\n",
      "Enter grade for above subject: O\n",
      "\n",
      "OBJECT ORIENTED ANALYSIS AND DESIGN LABORATORY(CS8582)\n",
      "Enter grade for above subject: O\n",
      "\n",
      "NETWORKS LABORATORY(CS8581)\n",
      "Enter grade for above subject: O\n",
      "\n",
      "OPEN ELECTIVE\n",
      "Enter grade for above subject: O\n",
      "\n",
      "YOUR OVERALL CGPA IS 10.0\n"
     ]
    }
   ],
   "source": [
    "subject = [\"ALGEBRA AND NUMBER THEORY(MA8551)\", \"COMPUTER NETWORKS(CS8591)\", \"MICROPROCESSORS AND MICROCONTROLLERS(EC8691)\", \"THEORY OF COMPUTATION(CS8501)\",\"OBJECT ORIENTED ANALYSIS AND DESIGN(CS8592)\", \"MICROPROCESSORS AND MICROCONTROLLERS LABORATORY(EC8681)\", \"OBJECT ORIENTED ANALYSIS AND DESIGN LABORATORY(CS8582)\", \"NETWORKS LABORATORY(CS8581)\", \"OPEN ELECTIVE\"]\n",
    "marks = []\n",
    "for i in subject:\n",
    "    print(i)\n",
    "    z = input(\"Enter grade for above subject: \")\n",
    "    print()\n",
    "    if z == \"O\":\n",
    "        marks.append(10)\n",
    "    elif z == \"A+\":\n",
    "        marks.append(9)\n",
    "    elif z == \"A\":\n",
    "        marks.append(8)\n",
    "    elif z == \"B+\":\n",
    "        marks.append(7)\n",
    "    elif z== \"B\":\n",
    "        marks.append(6)\n",
    "    else:\n",
    "        marks.append(0)\n",
    "credit = [4, 3, 3, 3, 3, 2, 2, 2, 3]\n",
    "result = []\n",
    "for i in range(len(credit)):\n",
    "    result.append(credit[i] * marks[i])\n",
    "for i in range(len(credit)):\n",
    "    if result[i] == 0:\n",
    "        credit[i] = 0\n",
    "sum_total = 0\n",
    "for i in result:\n",
    "    sum_total += i\n",
    "sum_credit = 0\n",
    "for i in credit:\n",
    "    sum_credit += i\n",
    "try:\n",
    "    CGPA = sum_total / sum_credit\n",
    "except ZeroDivisionError:\n",
    "    CGPA = 0\n",
    "finally:\n",
    "    print(f'YOUR OVERALL CGPA IS {CGPA}')"
   ]
  },
  {
   "cell_type": "markdown",
   "id": "d4228af9",
   "metadata": {},
   "source": [
    "# Run this to play a Dice game with a friend\n",
    "# To win this game roll the dice to achive your score 100\n",
    "# If you get 6 from your dice you are chanced to roll again"
   ]
  },
  {
   "cell_type": "code",
   "execution_count": 4,
   "id": "1784732a",
   "metadata": {
    "scrolled": true
   },
   "outputs": [
    {
     "name": "stdout",
     "output_type": "stream",
     "text": [
      "Score of person1:0\n",
      "Score of person2:0\n",
      "Enter any key to roll the Dice By !!!Person1!!!: \n",
      "5\n",
      "Score of person1: 5 || Score of person2: 0\n",
      "\n",
      "\n",
      "\n",
      "Enter any key to roll the Dice By !!!Person2!!!: \n",
      "1\n",
      "Score of person2: 1 || Score of person1: 5\n",
      "\n",
      "\n",
      "\n",
      "Enter any key to roll the Dice By !!!Person1!!!: \n",
      "2\n",
      "Score of person1: 7 || Score of person2: 1\n",
      "\n",
      "\n",
      "\n",
      "Enter any key to roll the Dice By !!!Person2!!!: \n",
      "6\n",
      "Score of person2: 7 || Score of person1: 7\n",
      "\n",
      "\n",
      "\n",
      "Enter any key to roll the Dice By !!!Person2!!!: \n",
      "1\n",
      "Score of person2: 8 || Score of person1: 7\n",
      "\n",
      "\n",
      "\n",
      "Enter any key to roll the Dice By !!!Person1!!!: \n",
      "5\n",
      "Score of person1: 12 || Score of person2: 8\n",
      "\n",
      "\n",
      "\n",
      "Enter any key to roll the Dice By !!!Person2!!!: \n",
      "3\n",
      "Score of person2: 11 || Score of person1: 12\n",
      "\n",
      "\n",
      "\n",
      "Enter any key to roll the Dice By !!!Person1!!!: \n",
      "4\n",
      "Score of person1: 16 || Score of person2: 11\n",
      "\n",
      "\n",
      "\n",
      "Enter any key to roll the Dice By !!!Person2!!!: \n",
      "2\n",
      "Score of person2: 13 || Score of person1: 16\n",
      "\n",
      "\n",
      "\n",
      "Enter any key to roll the Dice By !!!Person1!!!: \n",
      "4\n",
      "Score of person1: 20 || Score of person2: 13\n",
      "\n",
      "\n",
      "\n",
      "Enter any key to roll the Dice By !!!Person2!!!: \n",
      "4\n",
      "Score of person2: 17 || Score of person1: 20\n",
      "\n",
      "\n",
      "\n",
      "Enter any key to roll the Dice By !!!Person1!!!: \n",
      "3\n",
      "Score of person1: 23 || Score of person2: 17\n",
      "\n",
      "\n",
      "\n",
      "Enter any key to roll the Dice By !!!Person2!!!: \n",
      "4\n",
      "Score of person2: 21 || Score of person1: 23\n",
      "\n",
      "\n",
      "\n",
      "Enter any key to roll the Dice By !!!Person1!!!: \n",
      "1\n",
      "Score of person1: 24 || Score of person2: 21\n",
      "\n",
      "\n",
      "\n",
      "Enter any key to roll the Dice By !!!Person2!!!: \n",
      "4\n",
      "Score of person2: 25 || Score of person1: 24\n",
      "\n",
      "\n",
      "\n",
      "Enter any key to roll the Dice By !!!Person1!!!: \n",
      "1\n",
      "Score of person1: 25 || Score of person2: 25\n",
      "\n",
      "\n",
      "\n",
      "Enter any key to roll the Dice By !!!Person2!!!: \n",
      "1\n",
      "Score of person2: 26 || Score of person1: 25\n",
      "\n",
      "\n",
      "\n",
      "Enter any key to roll the Dice By !!!Person1!!!: \n",
      "5\n",
      "Score of person1: 30 || Score of person2: 26\n",
      "\n",
      "\n",
      "\n",
      "Enter any key to roll the Dice By !!!Person2!!!: \n",
      "3\n",
      "Score of person2: 29 || Score of person1: 30\n",
      "\n",
      "\n",
      "\n",
      "Enter any key to roll the Dice By !!!Person1!!!: \n",
      "6\n",
      "Score of person1: 36 || Score of person2: 29\n",
      "\n",
      "\n",
      "\n",
      "Enter any key to roll the Dice By !!!Person1!!!: \n",
      "4\n",
      "Score of person1: 40 || Score of person2: 29\n",
      "\n",
      "\n",
      "\n",
      "Enter any key to roll the Dice By !!!Person2!!!: \n",
      "5\n",
      "Score of person2: 34 || Score of person1: 40\n",
      "\n",
      "\n",
      "\n",
      "Enter any key to roll the Dice By !!!Person1!!!: \n",
      "1\n",
      "Score of person1: 41 || Score of person2: 34\n",
      "\n",
      "\n",
      "\n",
      "Enter any key to roll the Dice By !!!Person2!!!: \n",
      "2\n",
      "Score of person2: 36 || Score of person1: 41\n",
      "\n",
      "\n",
      "\n",
      "Enter any key to roll the Dice By !!!Person1!!!: \n",
      "2\n",
      "Score of person1: 43 || Score of person2: 36\n",
      "\n",
      "\n",
      "\n",
      "Enter any key to roll the Dice By !!!Person2!!!: \n",
      "1\n",
      "Score of person2: 37 || Score of person1: 43\n",
      "\n",
      "\n",
      "\n",
      "Enter any key to roll the Dice By !!!Person1!!!: \n",
      "3\n",
      "Score of person1: 46 || Score of person2: 37\n",
      "\n",
      "\n",
      "\n",
      "Enter any key to roll the Dice By !!!Person2!!!: \n",
      "3\n",
      "Score of person2: 40 || Score of person1: 46\n",
      "\n",
      "\n",
      "\n",
      "Enter any key to roll the Dice By !!!Person1!!!: \n",
      "1\n",
      "Score of person1: 47 || Score of person2: 40\n",
      "\n",
      "\n",
      "\n",
      "Enter any key to roll the Dice By !!!Person2!!!: \n",
      "1\n",
      "Score of person2: 41 || Score of person1: 47\n",
      "\n",
      "\n",
      "\n",
      "Enter any key to roll the Dice By !!!Person1!!!: \n",
      "3\n",
      "Score of person1: 50 || Score of person2: 41\n",
      "\n",
      "\n",
      "\n",
      "Enter any key to roll the Dice By !!!Person2!!!: \n",
      "1\n",
      "Score of person2: 42 || Score of person1: 50\n",
      "\n",
      "\n",
      "\n",
      "Enter any key to roll the Dice By !!!Person1!!!: \n",
      "4\n",
      "Score of person1: 54 || Score of person2: 42\n",
      "\n",
      "\n",
      "\n",
      "Enter any key to roll the Dice By !!!Person2!!!: \n",
      "4\n",
      "Score of person2: 46 || Score of person1: 54\n",
      "\n",
      "\n",
      "\n",
      "Enter any key to roll the Dice By !!!Person1!!!: \n",
      "3\n",
      "Score of person1: 57 || Score of person2: 46\n",
      "\n",
      "\n",
      "\n",
      "Enter any key to roll the Dice By !!!Person2!!!: \n",
      "6\n",
      "Score of person2: 52 || Score of person1: 57\n",
      "\n",
      "\n",
      "\n",
      "Enter any key to roll the Dice By !!!Person2!!!: \n",
      "4\n",
      "Score of person2: 56 || Score of person1: 57\n",
      "\n",
      "\n",
      "\n",
      "Enter any key to roll the Dice By !!!Person1!!!: \n",
      "6\n",
      "Score of person1: 63 || Score of person2: 56\n",
      "\n",
      "\n",
      "\n",
      "Enter any key to roll the Dice By !!!Person1!!!: \n",
      "1\n",
      "Score of person1: 64 || Score of person2: 56\n",
      "\n",
      "\n",
      "\n",
      "Enter any key to roll the Dice By !!!Person2!!!: \n",
      "5\n",
      "Score of person2: 61 || Score of person1: 64\n",
      "\n",
      "\n",
      "\n",
      "Enter any key to roll the Dice By !!!Person1!!!: \n",
      "3\n",
      "Score of person1: 67 || Score of person2: 61\n",
      "\n",
      "\n",
      "\n",
      "Enter any key to roll the Dice By !!!Person2!!!: \n",
      "6\n",
      "Score of person2: 67 || Score of person1: 67\n",
      "\n",
      "\n",
      "\n",
      "Enter any key to roll the Dice By !!!Person2!!!: \n",
      "2\n",
      "Score of person2: 69 || Score of person1: 67\n",
      "\n",
      "\n",
      "\n",
      "Enter any key to roll the Dice By !!!Person1!!!: \n",
      "6\n",
      "Score of person1: 73 || Score of person2: 69\n",
      "\n",
      "\n",
      "\n",
      "Enter any key to roll the Dice By !!!Person1!!!: \n",
      "5\n",
      "Score of person1: 78 || Score of person2: 69\n",
      "\n",
      "\n",
      "\n",
      "Enter any key to roll the Dice By !!!Person2!!!: \n",
      "6\n",
      "Score of person2: 75 || Score of person1: 78\n",
      "\n",
      "\n",
      "\n"
     ]
    },
    {
     "ename": "KeyboardInterrupt",
     "evalue": "Interrupted by user",
     "output_type": "error",
     "traceback": [
      "\u001b[1;31m---------------------------------------------------------------------------\u001b[0m",
      "\u001b[1;31mKeyboardInterrupt\u001b[0m                         Traceback (most recent call last)",
      "Cell \u001b[1;32mIn[4], line 27\u001b[0m\n\u001b[0;32m     24\u001b[0m         i \u001b[38;5;241m+\u001b[39m\u001b[38;5;241m=\u001b[39m \u001b[38;5;241m1\u001b[39m\n\u001b[0;32m     25\u001b[0m \u001b[38;5;28;01melse\u001b[39;00m:\n\u001b[1;32m---> 27\u001b[0m     \u001b[38;5;28;43minput\u001b[39;49m\u001b[43m(\u001b[49m\u001b[38;5;124;43m\"\u001b[39;49m\u001b[38;5;124;43mEnter any key to roll the Dice By !!!Person2!!!: \u001b[39;49m\u001b[38;5;124;43m\"\u001b[39;49m\u001b[43m)\u001b[49m\n\u001b[0;32m     28\u001b[0m     a \u001b[38;5;241m=\u001b[39m random\u001b[38;5;241m.\u001b[39mrandint(\u001b[38;5;241m1\u001b[39m, \u001b[38;5;241m6\u001b[39m)\n\u001b[0;32m     29\u001b[0m     \u001b[38;5;28mprint\u001b[39m(a)\n",
      "File \u001b[1;32m~\\anaconda3\\lib\\site-packages\\ipykernel\\kernelbase.py:1175\u001b[0m, in \u001b[0;36mKernel.raw_input\u001b[1;34m(self, prompt)\u001b[0m\n\u001b[0;32m   1171\u001b[0m \u001b[38;5;28;01mif\u001b[39;00m \u001b[38;5;129;01mnot\u001b[39;00m \u001b[38;5;28mself\u001b[39m\u001b[38;5;241m.\u001b[39m_allow_stdin:\n\u001b[0;32m   1172\u001b[0m     \u001b[38;5;28;01mraise\u001b[39;00m StdinNotImplementedError(\n\u001b[0;32m   1173\u001b[0m         \u001b[38;5;124m\"\u001b[39m\u001b[38;5;124mraw_input was called, but this frontend does not support input requests.\u001b[39m\u001b[38;5;124m\"\u001b[39m\n\u001b[0;32m   1174\u001b[0m     )\n\u001b[1;32m-> 1175\u001b[0m \u001b[38;5;28;01mreturn\u001b[39;00m \u001b[38;5;28;43mself\u001b[39;49m\u001b[38;5;241;43m.\u001b[39;49m\u001b[43m_input_request\u001b[49m\u001b[43m(\u001b[49m\n\u001b[0;32m   1176\u001b[0m \u001b[43m    \u001b[49m\u001b[38;5;28;43mstr\u001b[39;49m\u001b[43m(\u001b[49m\u001b[43mprompt\u001b[49m\u001b[43m)\u001b[49m\u001b[43m,\u001b[49m\n\u001b[0;32m   1177\u001b[0m \u001b[43m    \u001b[49m\u001b[38;5;28;43mself\u001b[39;49m\u001b[38;5;241;43m.\u001b[39;49m\u001b[43m_parent_ident\u001b[49m\u001b[43m[\u001b[49m\u001b[38;5;124;43m\"\u001b[39;49m\u001b[38;5;124;43mshell\u001b[39;49m\u001b[38;5;124;43m\"\u001b[39;49m\u001b[43m]\u001b[49m\u001b[43m,\u001b[49m\n\u001b[0;32m   1178\u001b[0m \u001b[43m    \u001b[49m\u001b[38;5;28;43mself\u001b[39;49m\u001b[38;5;241;43m.\u001b[39;49m\u001b[43mget_parent\u001b[49m\u001b[43m(\u001b[49m\u001b[38;5;124;43m\"\u001b[39;49m\u001b[38;5;124;43mshell\u001b[39;49m\u001b[38;5;124;43m\"\u001b[39;49m\u001b[43m)\u001b[49m\u001b[43m,\u001b[49m\n\u001b[0;32m   1179\u001b[0m \u001b[43m    \u001b[49m\u001b[43mpassword\u001b[49m\u001b[38;5;241;43m=\u001b[39;49m\u001b[38;5;28;43;01mFalse\u001b[39;49;00m\u001b[43m,\u001b[49m\n\u001b[0;32m   1180\u001b[0m \u001b[43m\u001b[49m\u001b[43m)\u001b[49m\n",
      "File \u001b[1;32m~\\anaconda3\\lib\\site-packages\\ipykernel\\kernelbase.py:1217\u001b[0m, in \u001b[0;36mKernel._input_request\u001b[1;34m(self, prompt, ident, parent, password)\u001b[0m\n\u001b[0;32m   1214\u001b[0m             \u001b[38;5;28;01mbreak\u001b[39;00m\n\u001b[0;32m   1215\u001b[0m \u001b[38;5;28;01mexcept\u001b[39;00m \u001b[38;5;167;01mKeyboardInterrupt\u001b[39;00m:\n\u001b[0;32m   1216\u001b[0m     \u001b[38;5;66;03m# re-raise KeyboardInterrupt, to truncate traceback\u001b[39;00m\n\u001b[1;32m-> 1217\u001b[0m     \u001b[38;5;28;01mraise\u001b[39;00m \u001b[38;5;167;01mKeyboardInterrupt\u001b[39;00m(\u001b[38;5;124m\"\u001b[39m\u001b[38;5;124mInterrupted by user\u001b[39m\u001b[38;5;124m\"\u001b[39m) \u001b[38;5;28;01mfrom\u001b[39;00m \u001b[38;5;28mNone\u001b[39m\n\u001b[0;32m   1218\u001b[0m \u001b[38;5;28;01mexcept\u001b[39;00m \u001b[38;5;167;01mException\u001b[39;00m:\n\u001b[0;32m   1219\u001b[0m     \u001b[38;5;28mself\u001b[39m\u001b[38;5;241m.\u001b[39mlog\u001b[38;5;241m.\u001b[39mwarning(\u001b[38;5;124m\"\u001b[39m\u001b[38;5;124mInvalid Message:\u001b[39m\u001b[38;5;124m\"\u001b[39m, exc_info\u001b[38;5;241m=\u001b[39m\u001b[38;5;28;01mTrue\u001b[39;00m)\n",
      "\u001b[1;31mKeyboardInterrupt\u001b[0m: Interrupted by user"
     ]
    }
   ],
   "source": [
    "\n",
    "import random\n",
    "person1 = 0\n",
    "person2 = 0\n",
    "print(f'Score of person1:{person1}')\n",
    "print(f'Score of person2:{person2}')\n",
    "i = 0\n",
    "while True:\n",
    "    if i % 2 == 0:\n",
    "        input(\"Enter any key to roll the Dice By !!!Person1!!!: \")\n",
    "        a = random.randint(1, 6)\n",
    "        print(a)\n",
    "        person1 += a\n",
    "        print(f'Score of person1: {person1} || Score of person2: {person2}')\n",
    "        print()\n",
    "        print()\n",
    "        print()\n",
    "        if person1 >= 100:\n",
    "            print(\"Person1 won the match\")\n",
    "            break\n",
    "\n",
    "        if a == 6:\n",
    "            i = 2\n",
    "        else:\n",
    "            i += 1\n",
    "    else:\n",
    "\n",
    "        input(\"Enter any key to roll the Dice By !!!Person2!!!: \")\n",
    "        a = random.\n",
    "        randint(1, 6)\n",
    "        print(a)\n",
    "        person2 += a\n",
    "        print(f'Score of person2: {person2} || Score of person1: {person1}')\n",
    "        print()\n",
    "        print()\n",
    "        print()\n",
    "        if person2 >= 100:\n",
    "            print(\"Person2 won the match\")\n",
    "            break\n",
    "        if a == 6:\n",
    "            i = 3\n",
    "        else:\n",
    "            i += 1"
   ]
  },
  {
   "cell_type": "markdown",
   "id": "1e626d60",
   "metadata": {},
   "source": [
    "# Finding Number of Vowels and Consonants in a paragraph"
   ]
  },
  {
   "cell_type": "code",
   "execution_count": 5,
   "id": "1b2ac8bb",
   "metadata": {
    "scrolled": true
   },
   "outputs": [
    {
     "name": "stdout",
     "output_type": "stream",
     "text": [
      "Enter your paragraph: We are heros\n",
      "No. of vowels present 5\n",
      "No. of consonents present 5\n"
     ]
    }
   ],
   "source": [
    "para = input(\"Enter your paragraph: \").lower()\n",
    "vowel = 0\n",
    "consonent = 0\n",
    "for i in para:\n",
    "    if i == \"a\" or i == \"e\" or i == \"i\" or i == \"o\" or i == \"u\":\n",
    "        vowel += 1\n",
    "    elif i == \"b\" or i == \"c\" or i == \"d\" or i == \"f\" or i == \"g\" or i == \"h\" or i == \"j\" or i == \"k\" or i == \"l\" or i == \"m\" or i == \"n\" or i == \"p\" or i == \"q\" or i == \"r\" or i == \"s\" or i == \"t\" or i == \"v\" or i == \"w\" or i == \"x\" or i == \"y\" or i == \"z\":\n",
    "        consonent += 1\n",
    "\n",
    "print(f'No. of vowels present {vowel}')\n",
    "print(f'No. of consonents present {consonent}')"
   ]
  },
  {
   "cell_type": "markdown",
   "id": "35f8c032",
   "metadata": {},
   "source": [
    "# find the sum of two consecutive even numbers whose difference of squares is 84"
   ]
  },
  {
   "cell_type": "code",
   "execution_count": 6,
   "id": "70e0cc97",
   "metadata": {},
   "outputs": [
    {
     "name": "stdout",
     "output_type": "stream",
     "text": [
      "20 22\n",
      "42\n"
     ]
    }
   ],
   "source": [
    "for i in range(2,52,2):\n",
    "    j=i+2\n",
    "    c=i**2\n",
    "    d=j**2\n",
    "    e=c-d\n",
    "    if e==-84:\n",
    "        print(i,j)\n",
    "        break;\n",
    "print(i+j)"
   ]
  },
  {
   "cell_type": "code",
   "execution_count": null,
   "id": "8fe9453f",
   "metadata": {},
   "outputs": [
    {
     "name": "stdout",
     "output_type": "stream",
     "text": [
      "42\n"
     ]
    }
   ],
   "source": [
    "i = 0\n",
    "while True:\n",
    "    if (i+2) ** 2 - i **2 == 84:\n",
    "        print(i + i+2)\n",
    "    i += 2"
   ]
  },
  {
   "cell_type": "code",
   "execution_count": null,
   "id": "6e058f41",
   "metadata": {},
   "outputs": [],
   "source": []
  }
 ],
 "metadata": {
  "kernelspec": {
   "display_name": "Python 3 (ipykernel)",
   "language": "python",
   "name": "python3"
  },
  "language_info": {
   "codemirror_mode": {
    "name": "ipython",
    "version": 3
   },
   "file_extension": ".py",
   "mimetype": "text/x-python",
   "name": "python",
   "nbconvert_exporter": "python",
   "pygments_lexer": "ipython3",
   "version": "3.10.9"
  }
 },
 "nbformat": 4,
 "nbformat_minor": 5
}
